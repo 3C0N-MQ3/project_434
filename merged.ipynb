{
 "cells": [
  {
   "cell_type": "markdown",
   "id": "d3604af7",
   "metadata": {
    "cell_marker": "\"\"\"",
    "lines_to_next_cell": 0
   },
   "source": [
    "<script src=\"https://cdn.jsdelivr.net/npm/mathjax@3/es5/tex-mml-chtml.js\"></script>"
   ]
  },
  {
   "cell_type": "markdown",
   "id": "fc46a6e5",
   "metadata": {
    "lines_to_next_cell": 0
   },
   "source": [
    "<div style=\"text-align: left;\">\n",
    "    <h1>Uber Versus Public Transit</h1>\n",
    "    <h2>Final Project</h2>\n",
    "    <h4>ECON 434 - Machine Learning and Big Data for Economists</h3>\n",
    "    <div style=\"padding: 20px 0;\">\n",
    "        <hr style=\"border: 0; height: 1px; background-image: linear-gradient(to right, rgba(0, 0, 0, 0), rgba(0, 0, 0, 0.75), rgba(0, 0, 0, 0));\">\n",
    "        <p><em>Luis-Alejandro Samayoa-Alvarado</em><br>\n",
    "        <p><em>Mauricio Vargas-Estrada</em><br>\n",
    "        <p><em>Nikolas Papadatos</em><br>\n",
    "        <p><em>William Borelli Ebert</em><br>\n",
    "        <p>Master of Quantitative Economics<br>\n",
    "        University of California - Los Angeles</p>\n",
    "        <hr style=\"border: 0; height: 1px; background-image: linear-gradient(to right, rgba(0, 0, 0, 0), rgba(0, 0, 0, 0.75), rgba(0, 0, 0, 0));\">\n",
    "    </div>\n",
    "</div>"
   ]
  },
  {
   "cell_type": "markdown",
   "id": "52988e89",
   "metadata": {
    "cell_marker": "\"\"\"",
    "lines_to_next_cell": 0
   },
   "source": [
    "In this project, we study whether Uber complements (helps) or substitutes (hurts) public transit. On the one hand, Uber can substitute public transit if riders decide to choose Uber instead of public transit. On the other hand, Uber can complement public transit if riders take Uber from home to public transit stop, which can make public transit more attractive than driving a car. The net effect is unclear and is a subject of intense policy debate.\n",
    "\n",
    "We will expand on the original set of results presented in Hall, Palsson, and Price (2018), “Is Uber a substitute or a complement for public transit,” *Journal of Urban Economics*, which is available on the class website. We will use their dataset, which is also available on the class website. In the dataset, a unit of ob- servation is a public transit agency in a given year-month. The dataset includes information on both the transit agencies and on the Metropolitan Statistical Areas (MSA) where they operate. For each time period, the dataset contains values for the following variables:\n",
    "\n",
    "1. $UPTTotal$ – the number of rides for the public transit agency;\n",
    "2. $treatUberX$ - a dummy for Uber presence in the corresponding MSA;\n",
    "3. $treatGTNotStd$ - a variable measuring google search intensity for Uber in the corresponding MSA;\n",
    "4. $popestimate$ - population in the corresponding MSA;\n",
    "5. $employment$ - employment in the corresponding MSA;\n",
    "6. $aveFareTotal$ - average fare for the public transit agency;\n",
    "7. $VRHTTotal$ - vehicle hours for the public transit agency;\n",
    "8. $VOMSTotal$ - number of vehicles employed by the public transit agency;\n",
    "9. $VRMTotal$ - vehicle miles for the public transit agency;\n",
    "10. $gasPrice$ - gas price in the corresponding MSA.\n",
    "\n",
    "In this dataset, $treatUberX$ and $treatGTNotStd$ is qualitative and quantitative measures for the same thing: Uber presence in the MSA. We can run regressions using either of these two variables and then check whether results are robust if the other variable is used.\n",
    "\n",
    "There are two variations in this dataset that allow us to study the effect of Uber on public transit. First, in any given time period, Uber is present in some MSAs but not others. We can thus study the effect of Uber by comparing these MSAs. Second, for any given MSA, we have data on time periods both before and after Uber was introduced in this MSA. We can thus study the effect of Uber by comparing these time periods. By working with panel data, we are able to employ both variations at the same time.\n",
    "\n",
    "To study the effect of Uber on public transit, we let $Y_{it}$ be $UPTTotal$, $D_{it}$ be either $treatUberX$ or $treatGTNotStd$, and $W_{it}$ be the vector including remaining variables: $popestimate$, $employment$, $aveFareTotal$, $VRHTTotal$, $VOMSTotal$, $VRMTotal$, $gasPrice$. We then run the following regressions:"
   ]
  },
  {
   "cell_type": "code",
   "execution_count": null,
   "id": "152bde52",
   "metadata": {
    "lines_to_next_cell": 0
   },
   "outputs": [],
   "source": [
    "import numpy as np\n",
    "import matplotlib.pyplot as plt\n",
    "import pandas as pd\n",
    "import statsmodels.api as sm\n",
    "\n",
    "from scipy.stats import norm\n",
    "from sklearn.linear_model import Lasso\n",
    "from sklearn.linear_model import LinearRegression\n",
    "from sklearn.preprocessing import StandardScaler\n",
    "from linearmodels.panel import PanelOLS\n",
    "\n",
    "from src.BCCH import BCCH\n",
    "from src.double_lasso import double_lasso\n",
    "from src.double_lasso_OLS import double_lasso_OLS"
   ]
  },
  {
   "cell_type": "code",
   "execution_count": null,
   "id": "3f10f679",
   "metadata": {
    "lines_to_next_cell": 0
   },
   "outputs": [],
   "source": [
    "# Load data\n",
    "data = pd.read_csv(\"data/uber_dataset.csv\", index_col=0)\n",
    "\n",
    "# Drop treatGTNotStd variable\n",
    "data = data.drop(columns='treatGTNotStd')\n",
    "\n",
    "# Drop rows with missing values\n",
    "data = data.dropna()\n",
    "\n",
    "# If treatUberX is greater than 0.5, set it to 1, if not, set it to 0\n",
    "data['treatUberX'] = (data['treatUberX'] > 0.5).astype(int)\n",
    "\n",
    "# Calculate the median population across all entities\n",
    "median_population = data.groupby('dateSurvey')['popestimate'].median()\n",
    "\n",
    "# Merge the median population back to the original dataframe\n",
    "data = data.reset_index().merge(median_population.rename('median_pop'), on='dateSurvey')\n",
    "\n",
    "# Create the dummy variable P_{it}\n",
    "data['P'] = (data['popestimate'] > data['median_pop']).astype(int)\n",
    "\n",
    "# Calculate the median rides across all times\n",
    "median_rides = data.groupby('dateSurvey')['UPTTotal'].median()\n",
    "\n",
    "# Merge the median population back to the original dataframe\n",
    "data = data.reset_index().merge(median_rides.rename('median_ride'), on='dateSurvey')\n",
    "\n",
    "# Create the dummy variable F_{it}\n",
    "data['F'] = (data['UPTTotal'] > data['median_ride']).astype(int)\n",
    "\n",
    "# Create the interaction term P_{it} * D_{it}\n",
    "data['PxD'] = data['P'] * data['treatUberX']\n",
    "\n",
    "# Create the interaction term F_{it} * D_{it}\n",
    "data['FxD'] = data['F'] * data['treatUberX']\n",
    "\n",
    "# Create interaction between agency and city\n",
    "data['agency_city'] = data['agency'] + data['city']"
   ]
  },
  {
   "cell_type": "markdown",
   "id": "1c511bed",
   "metadata": {
    "lines_to_next_cell": 0
   },
   "source": [
    "<div style=\"border: 1px solid black; border-radius: 5px; overflow: hidden;\">\n",
    "    <div style=\"background-color: black; color: white; padding: 5px; text-align: left;\">\n",
    "        1.)\n",
    "    </div>\n",
    "    <div style=\"padding: 10px;\">\n",
    "        OLS: log \\(Y_{it} = \\alpha + D_{it} \\beta + W_{it}' \\gamma + \\epsilon_{it}\\).\n",
    "    </div>\n",
    "</div>"
   ]
  },
  {
   "cell_type": "code",
   "execution_count": null,
   "id": "f39e9bef",
   "metadata": {
    "lines_to_next_cell": 0
   },
   "outputs": [],
   "source": [
    "# Convert 'dateSurvey' to datetime format\n",
    "data['dateSurvey'] = pd.to_datetime(data['dateSurvey'], errors='coerce')\n",
    "\n",
    "# Set the index to be a MultiIndex for panel data\n",
    "data = data.set_index(['agency_city', 'dateSurvey'])\n",
    "\n",
    "# Define the dependent variable and independent variables\n",
    "Y = np.log(data['UPTTotal'])\n",
    "D = data['treatUberX']\n",
    "W = data[['popestimate', 'employment', 'aveFareTotal', 'VRHTotal', 'VOMSTotal', 'VRMTotal', 'gasPrice']]\n",
    "PxD = data['PxD']\n",
    "FxD = data['FxD']\n",
    "\n",
    "# Scale the independent variables with log transformation\n",
    "W_scaled_df = np.log(W)\n",
    "\n",
    "# Create the design matrices\n",
    "X = pd.concat([D, W_scaled_df], axis=1)\n",
    "\n",
    "# Add constant to the models\n",
    "X = sm.add_constant(X)"
   ]
  },
  {
   "cell_type": "code",
   "execution_count": null,
   "id": "38a8e744",
   "metadata": {
    "lines_to_next_cell": 0
   },
   "outputs": [],
   "source": [
    "# Fit the OLS model\n",
    "model1 = sm.OLS(Y, X).fit()\n",
    "\n",
    "# Print the results\n",
    "print(model1.summary())"
   ]
  },
  {
   "cell_type": "markdown",
   "id": "c98372a5",
   "metadata": {
    "lines_to_next_cell": 0
   },
   "source": [
    "<div style=\"border: 1px solid black; border-radius: 5px; overflow: hidden;\">\n",
    "    <div style=\"background-color: black; color: white; padding: 5px; text-align: left;\">\n",
    "        2.)\n",
    "    </div>\n",
    "    <div style=\"padding: 10px;\">\n",
    "        OLS: log \\(Y_{it} = \\eta_i + \\delta_t + D_{it} \\beta + W_{it}' \\gamma + \\epsilon_{it}\\).\n",
    "    </div>\n",
    "</div>"
   ]
  },
  {
   "cell_type": "code",
   "execution_count": null,
   "id": "95d56d47",
   "metadata": {},
   "outputs": [],
   "source": []
  },
  {
   "cell_type": "markdown",
   "id": "144c2269",
   "metadata": {
    "lines_to_next_cell": 0
   },
   "source": [
    "<div style=\"border: 1px solid black; border-radius: 5px; overflow: hidden;\">\n",
    "    <div style=\"background-color: black; color: white; padding: 5px; text-align: left;\">\n",
    "        3.)\n",
    "    </div>\n",
    "    <div style=\"padding: 10px;\">\n",
    "        OLS: log \\(Y_{it} = \\eta_i + \\delta_t + D_{it} \\beta_1 + D_{it} Pit_i \\beta_2 + W_{it}' \\gamma + \\epsilon_{it}\\), where \\(Pit_i\\) is a dummy that takes value 1 if the corresponding MSA has population larger than the median population in the dataset and 0 otherwise.\n",
    "    </div>\n",
    "</div>"
   ]
  },
  {
   "cell_type": "code",
   "execution_count": null,
   "id": "c614b499",
   "metadata": {},
   "outputs": [],
   "source": []
  },
  {
   "cell_type": "markdown",
   "id": "caecd454",
   "metadata": {
    "lines_to_next_cell": 0
   },
   "source": [
    "<div style=\"border: 1px solid black; border-radius: 5px; overflow: hidden;\">\n",
    "    <div style=\"background-color: black; color: white; padding: 5px; text-align: left;\">\n",
    "        4.)\n",
    "    </div>\n",
    "    <div style=\"padding: 10px;\">\n",
    "        OLS: log \\(Y_{it} = \\eta_i + \\delta_t + D_{it} \\beta_1 + D_{it} Fit_i \\beta_2 + W_{it}' \\gamma + \\epsilon_{it}\\), where \\(Fit_i\\) is a dummy that takes value 1 if the number of rides of the public travel agency is larger than the median number of rides among all public transit agencies in the dataset.\n",
    "    </div>\n",
    "</div>"
   ]
  },
  {
   "cell_type": "code",
   "execution_count": null,
   "id": "39ee1af7",
   "metadata": {},
   "outputs": [],
   "source": []
  },
  {
   "cell_type": "markdown",
   "id": "a5d3685e",
   "metadata": {
    "lines_to_next_cell": 0
   },
   "source": [
    "<div style=\"border: 1px solid black; border-radius: 5px; overflow: hidden;\">\n",
    "    <div style=\"background-color: black; color: white; padding: 5px; text-align: left;\">\n",
    "        5.)\n",
    "    </div>\n",
    "    <div style=\"padding: 10px;\">\n",
    "        LASSO: log \\(Y_{it} = \\eta_i + \\delta_t + D_{it} \\beta_1 + D_{it} Pit \\beta_2 + W_{it}' \\gamma + \\epsilon_{it}\\).\n",
    "    </div>\n",
    "</div>"
   ]
  },
  {
   "cell_type": "code",
   "execution_count": null,
   "id": "1b039d5b",
   "metadata": {},
   "outputs": [],
   "source": []
  },
  {
   "cell_type": "markdown",
   "id": "a2450676",
   "metadata": {
    "lines_to_next_cell": 0
   },
   "source": [
    "<div style=\"border: 1px solid black; border-radius: 5px; overflow: hidden;\">\n",
    "    <div style=\"background-color: black; color: white; padding: 5px; text-align: left;\">\n",
    "        6.)\n",
    "    </div>\n",
    "    <div style=\"padding: 10px;\">\n",
    "        LASSO: log \\(Y_{it} = \\eta_i + \\delta_t + D_{it} \\beta_1 + D_{it} Fit \\beta_2 + W_{it}' \\gamma + \\epsilon_{it}\\).\n",
    "    </div>\n",
    "</div>"
   ]
  },
  {
   "cell_type": "code",
   "execution_count": null,
   "id": "ef464b0b",
   "metadata": {},
   "outputs": [],
   "source": []
  },
  {
   "cell_type": "markdown",
   "id": "68ea8d47",
   "metadata": {
    "lines_to_next_cell": 0
   },
   "source": [
    "<div style=\"border: 1px solid black; border-radius: 5px; overflow: hidden;\">\n",
    "    <div style=\"background-color: black; color: white; padding: 5px; text-align: left;\">\n",
    "        7.)\n",
    "    </div>\n",
    "    <div style=\"padding: 10px;\">\n",
    "        Double-LASSO: log \\(Y_{it} = \\eta_i + \\delta_t + D_{it} \\beta_1 + D_{it} Pit \\beta_2 + \\tilde{W}_{it}' \\gamma + \\epsilon_{it}\\), where coefficients of interest are \\(\\beta_1\\) and \\(\\beta_2\\).\n",
    "    </div>\n",
    "</div>"
   ]
  },
  {
   "cell_type": "code",
   "execution_count": null,
   "id": "864f62e1",
   "metadata": {},
   "outputs": [],
   "source": []
  },
  {
   "cell_type": "markdown",
   "id": "34b05a50",
   "metadata": {
    "lines_to_next_cell": 0
   },
   "source": [
    "<div style=\"border: 1px solid black; border-radius: 5px; overflow: hidden;\">\n",
    "    <div style=\"background-color: black; color: white; padding: 5px; text-align: left;\">\n",
    "        8.)\n",
    "    </div>\n",
    "    <div style=\"padding: 10px;\">\n",
    "        Double-LASSO: log \\(Y_{it} = \\eta_i + \\delta_t + D_{it} \\beta_1 + D_{it} Fit \\beta_2 + \\tilde{W}_{it}' \\gamma + \\epsilon_{it}\\), where coefficients of interest are \\(\\beta_1\\) and \\(\\beta_2\\).\n",
    "    </div>\n",
    "</div>"
   ]
  },
  {
   "cell_type": "code",
   "execution_count": null,
   "id": "95dd1147",
   "metadata": {},
   "outputs": [],
   "source": []
  },
  {
   "cell_type": "markdown",
   "id": "2daa66aa",
   "metadata": {
    "lines_to_next_cell": 0
   },
   "source": [
    "<div style=\"border: 1px solid black; border-radius: 5px; overflow: hidden;\">\n",
    "    <div style=\"background-color: black; color: white; padding: 5px; text-align: left;\">\n",
    "        9.)\n",
    "    </div>\n",
    "    <div style=\"padding: 10px;\">\n",
    "        LASSO: log \\(Y_{it} = \\eta_i + \\delta_t + D_{it} \\beta_1 + D_{it} Pit \\beta_2 + \\tilde{W}_{it}' \\gamma + \\epsilon_{it}\\), where \\(\\tilde{W}_{it}\\) includes all interactions of order 5 of variables in the vector \\(W_{it}\\).\n",
    "    </div>\n",
    "</div>"
   ]
  },
  {
   "cell_type": "code",
   "execution_count": null,
   "id": "4110d010",
   "metadata": {},
   "outputs": [],
   "source": []
  },
  {
   "cell_type": "markdown",
   "id": "87298ce7",
   "metadata": {
    "lines_to_next_cell": 0
   },
   "source": [
    "<div style=\"border: 1px solid black; border-radius: 5px; overflow: hidden;\">\n",
    "    <div style=\"background-color: black; color: white; padding: 5px; text-align: left;\">\n",
    "        10.)\n",
    "    </div>\n",
    "    <div style=\"padding: 10px;\">\n",
    "        LASSO: log \\(Y_{it} = \\eta_i + \\delta_t + D_{it} \\beta_1 + D_{it} Fit \\beta_2 + \\tilde{W}_{it}' \\gamma + \\epsilon_{it}\\), where \\(\\tilde{W}_{it}\\) includes all interactions of order 5 of variables in the vector \\(W_{it}\\).\n",
    "    </div>\n",
    "</div>"
   ]
  },
  {
   "cell_type": "code",
   "execution_count": null,
   "id": "c43fa59a",
   "metadata": {},
   "outputs": [],
   "source": []
  },
  {
   "cell_type": "markdown",
   "id": "c624c9fb",
   "metadata": {
    "lines_to_next_cell": 0
   },
   "source": [
    "<div style=\"border: 1px solid black; border-radius: 5px; overflow: hidden;\">\n",
    "    <div style=\"background-color: black; color: white; padding: 5px; text-align: left;\">\n",
    "        11.)\n",
    "    </div>\n",
    "    <div style=\"padding: 10px;\">\n",
    "        Double-LASSO: log \\(Y_{it} = \\eta_i + \\delta_t + D_{it} \\beta_1 + D_{it} Pit \\beta_2 + \\tilde{W}_{it}' \\gamma + \\epsilon_{it}\\), where coefficients of interest are \\(\\beta_1\\) and \\(\\beta_2\\) and \\(\\tilde{W}_{it}\\) includes all interactions of order 5 of variables in the vector \\(W_{it}\\).\n",
    "    </div>\n",
    "</div>"
   ]
  },
  {
   "cell_type": "code",
   "execution_count": null,
   "id": "7f0cfbb3",
   "metadata": {},
   "outputs": [],
   "source": []
  },
  {
   "cell_type": "markdown",
   "id": "b4ee64a2",
   "metadata": {
    "lines_to_next_cell": 0
   },
   "source": [
    "<div style=\"border: 1px solid black; border-radius: 5px; overflow: hidden;\">\n",
    "    <div style=\"background-color: black; color: white; padding: 5px; text-align: left;\">\n",
    "        12.)\n",
    "    </div>\n",
    "    <div style=\"padding: 10px;\">\n",
    "        Double-LASSO: log \\(Y_{it} = \\eta_i + \\delta_t + D_{it} \\beta_1 + D_{it} Fit \\beta_2 + \\tilde{W}_{it}' \\gamma + \\epsilon_{it}\\), where coefficients of interest are \\(\\beta_1\\) and \\(\\beta_2\\) and \\(\\tilde{W}_{it}\\) includes all interactions of order 5 of variables in the vector \\(W_{it}\\).\n",
    "    </div>\n",
    "</div>"
   ]
  },
  {
   "cell_type": "code",
   "execution_count": null,
   "id": "cfad829d",
   "metadata": {
    "lines_to_next_cell": 2
   },
   "outputs": [],
   "source": []
  }
 ],
 "metadata": {
  "jupytext": {
   "cell_metadata_filter": "-all",
   "formats": "py:percent,ipynb",
   "main_language": "python"
  },
  "language_info": {
   "codemirror_mode": {
    "name": "ipython",
    "version": 3
   },
   "file_extension": ".py",
   "mimetype": "text/x-python",
   "name": "python",
   "nbconvert_exporter": "python",
   "pygments_lexer": "ipython3",
   "version": "3.11.9"
  }
 },
 "nbformat": 4,
 "nbformat_minor": 5
}
