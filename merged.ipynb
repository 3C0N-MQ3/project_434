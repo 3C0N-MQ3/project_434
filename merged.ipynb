{
 "cells": [
  {
   "cell_type": "markdown",
   "id": "d3604af7",
   "metadata": {
    "cell_marker": "\"\"\"",
    "lines_to_next_cell": 0
   },
   "source": [
    "<script src=\"https://cdn.jsdelivr.net/npm/mathjax@3/es5/tex-mml-chtml.js\"></script>"
   ]
  },
  {
   "cell_type": "markdown",
   "id": "fc46a6e5",
   "metadata": {
    "lines_to_next_cell": 0
   },
   "source": [
    "<div style=\"text-align: left;\">\n",
    "    <h1>Uber Versus Public Transit</h1>\n",
    "    <h2>Final Project</h2>\n",
    "    <h4>ECON 434 - Machine Learning and Big Data for Economists</h3>\n",
    "    <div style=\"padding: 20px 0;\">\n",
    "        <hr style=\"border: 0; height: 1px; background-image: linear-gradient(to right, rgba(0, 0, 0, 0), rgba(0, 0, 0, 0.75), rgba(0, 0, 0, 0));\">\n",
    "        <p><em>Luis-Alejandro Samayoa-Alvarado</em><br>\n",
    "        <p><em>Mauricio Vargas-Estrada</em><br>\n",
    "        <p><em>Nikolaos Papadatos</em><br>\n",
    "        <p><em>William Borelli Ebert</em><br>\n",
    "        <p>Master of Quantitative Economics<br>\n",
    "        University of California - Los Angeles</p>\n",
    "        <hr style=\"border: 0; height: 1px; background-image: linear-gradient(to right, rgba(0, 0, 0, 0), rgba(0, 0, 0, 0.75), rgba(0, 0, 0, 0));\">\n",
    "    </div>\n",
    "</div>"
   ]
  },
  {
   "cell_type": "markdown",
   "id": "52988e89",
   "metadata": {
    "cell_marker": "\"\"\"",
    "lines_to_next_cell": 0
   },
   "source": [
    "In this project, we study whether Uber complements (helps) or substitutes (hurts) public transit. On the one hand, Uber can substitute public transit if riders decide to choose Uber instead of public transit. On the other hand, Uber can complement public transit if riders take Uber from home to public transit stop, which can make public transit more attractive than driving a car. The net effect is unclear and is a subject of intense policy debate.\n",
    "\n",
    "We will expand on the original set of results presented in Hall, Palsson, and Price (2018), “Is Uber a substitute or a complement for public transit,” *Journal of Urban Economics*, which is available on the class website. We will use their dataset, which is also available on the class website. In the dataset, a unit of ob- servation is a public transit agency in a given year-month. The dataset includes information on both the transit agencies and on the Metropolitan Statistical Areas (MSA) where they operate. For each time period, the dataset contains values for the following variables:\n",
    "\n",
    "1. $UPTTotal$ – the number of rides for the public transit agency;\n",
    "2. $treatUberX$ - a dummy for Uber presence in the corresponding MSA;\n",
    "3. $treatGTNotStd$ - a variable measuring google search intensity for Uber in the corresponding MSA;\n",
    "4. $popestimate$ - population in the corresponding MSA;\n",
    "5. $employment$ - employment in the corresponding MSA;\n",
    "6. $aveFareTotal$ - average fare for the public transit agency;\n",
    "7. $VRHTTotal$ - vehicle hours for the public transit agency;\n",
    "8. $VOMSTotal$ - number of vehicles employed by the public transit agency;\n",
    "9. $VRMTotal$ - vehicle miles for the public transit agency;\n",
    "10. $gasPrice$ - gas price in the corresponding MSA.\n",
    "\n",
    "In this dataset, $treatUberX$ and $treatGTNotStd$ is qualitative and quantitative measures for the same thing: Uber presence in the MSA. We can run regressions using either of these two variables and then check whether results are robust if the other variable is used.\n",
    "\n",
    "There are two variations in this dataset that allow us to study the effect of Uber on public transit. First, in any given time period, Uber is present in some MSAs but not others. We can thus study the effect of Uber by comparing these MSAs. Second, for any given MSA, we have data on time periods both before and after Uber was introduced in this MSA. We can thus study the effect of Uber by comparing these time periods. By working with panel data, we are able to employ both variations at the same time.\n",
    "\n",
    "To study the effect of Uber on public transit, we let $Y_{it}$ be $UPTTotal$, $D_{it}$ be either $treatUberX$ or $treatGTNotStd$, and $W_{it}$ be the vector including remaining variables: $popestimate$, $employment$, $aveFareTotal$, $VRHTTotal$, $VOMSTotal$, $VRMTotal$, $gasPrice$. We then run the following regressions:"
   ]
  },
  {
   "cell_type": "code",
   "execution_count": 37,
   "id": "152bde52",
   "metadata": {},
   "outputs": [],
   "source": [
    "import numpy as np\n",
    "import matplotlib.pyplot as plt\n",
    "import pandas as pd\n",
    "import statsmodels.api as sm\n",
    "\n",
    "from scipy.stats import norm\n",
    "from sklearn.linear_model import Lasso\n",
    "from sklearn.linear_model import LinearRegression\n",
    "from sklearn.preprocessing import StandardScaler\n",
    "from sklearn.preprocessing import PolynomialFeatures\n",
    "from linearmodels.panel import PanelOLS\n",
    "\n",
    "from src.BCCH import BCCH\n",
    "from src.double_lasso import double_lasso\n",
    "from src.double_lasso_OLS import double_lasso_OLS"
   ]
  },
  {
   "cell_type": "code",
   "execution_count": 38,
   "id": "3f10f679",
   "metadata": {},
   "outputs": [],
   "source": [
    "# Load data\n",
    "data = pd.read_csv(\"data/uber_dataset.csv\", index_col=0)\n",
    "\n",
    "# Drop treatGTNotStd variable\n",
    "data = data.drop(columns=\"treatGTNotStd\")\n",
    "\n",
    "# Drop rows with missing values\n",
    "data = data.dropna()\n",
    "\n",
    "# If treatUberX is greater than 0.5, set it to 1, if not, set it to 0\n",
    "data[\"treatUberX\"] = (data[\"treatUberX\"] > 0.5).astype(int)\n",
    "\n",
    "# Create interaction between agency and city\n",
    "data[\"agency_city\"] = data[\"agency\"] + data[\"city\"]\n",
    "\n",
    "# Calculate the median population\n",
    "data_copy = data[[\"UPTTotal\", \"popestimate\", \"city\"]].copy()\n",
    "p = data_copy.groupby([\"city\"]).median()\n",
    "median_population = p[\"popestimate\"].median()\n",
    "\n",
    "# Create the dummy variable P_{it}\n",
    "data[\"P\"] = (data[\"popestimate\"] > median_population).astype(int)\n",
    "\n",
    "# Calculate the median rides\n",
    "median_rides = p[\"UPTTotal\"].median()\n",
    "\n",
    "# Create the dummy variable F_{it}\n",
    "data[\"F\"] = (data[\"UPTTotal\"] > median_rides).astype(int)\n",
    "\n",
    "# Create the interaction term P_{it} * D_{it}\n",
    "data[\"PxD\"] = data[\"P\"] * data[\"treatUberX\"]\n",
    "\n",
    "# Create the interaction term F_{it} * D_{it}\n",
    "data[\"FxD\"] = data[\"F\"] * data[\"treatUberX\"]"
   ]
  },
  {
   "cell_type": "markdown",
   "id": "4c95a012",
   "metadata": {
    "lines_to_next_cell": 0
   },
   "source": [
    "In line with the approach proposed by Hall, Palsson, and Price (2018), logarithmic transformations were applied to the set of control variables. The variables considered were the average fare, the maximum number of vehicles in operation within the month, vehicle-hours of service, vehicle-miles of service, regional gas prices, employment statistic, and population size. The motivation is linked to the fluctuation of magnitudes in the control variables, reducing the impact of possible outlier impact, and handle the skewness of distributions."
   ]
  },
  {
   "cell_type": "markdown",
   "id": "1c511bed",
   "metadata": {
    "lines_to_next_cell": 0
   },
   "source": [
    "<div style=\"border: 1px solid black; border-radius: 5px; overflow: hidden;\">\n",
    "    <div style=\"background-color: black; color: white; padding: 5px; text-align: left;\">\n",
    "        1.)\n",
    "    </div>\n",
    "    <div style=\"padding: 10px;\">\n",
    "        OLS: log \\(Y_{it} = \\alpha + D_{it} \\beta + W_{it}' \\gamma + \\epsilon_{it}\\).\n",
    "    </div>\n",
    "</div>"
   ]
  },
  {
   "cell_type": "code",
   "execution_count": 39,
   "id": "f39e9bef",
   "metadata": {},
   "outputs": [],
   "source": [
    "# Convert 'dateSurvey' to datetime format\n",
    "data[\"dateSurvey\"] = pd.to_datetime(data[\"dateSurvey\"], errors=\"coerce\")\n",
    "\n",
    "# Set the index to be a MultiIndex for panel data\n",
    "data = data.set_index([\"agency_city\", \"dateSurvey\"])\n",
    "\n",
    "# Define the dependent variable and independent variables\n",
    "Y = np.log(data[\"UPTTotal\"])\n",
    "D = data[\"treatUberX\"]\n",
    "W = data[\n",
    "    [\n",
    "        \"popestimate\",\n",
    "        \"employment\",\n",
    "        \"aveFareTotal\",\n",
    "        \"VRHTotal\",\n",
    "        \"VOMSTotal\",\n",
    "        \"VRMTotal\",\n",
    "        \"gasPrice\",\n",
    "    ]\n",
    "]\n",
    "PxD = data[\"PxD\"]\n",
    "FxD = data[\"FxD\"]\n",
    "\n",
    "# Scale the independent variables with log transformation\n",
    "W_scaled_df = np.log(W)\n",
    "\n",
    "# Create the design matrices\n",
    "X = pd.concat([D, W_scaled_df], axis=1)\n",
    "\n",
    "# Add constant to the models\n",
    "X = sm.add_constant(X)"
   ]
  },
  {
   "cell_type": "code",
   "execution_count": 40,
   "id": "38a8e744",
   "metadata": {},
   "outputs": [
    {
     "name": "stdout",
     "output_type": "stream",
     "text": [
      "                            OLS Regression Results                            \n",
      "==============================================================================\n",
      "Dep. Variable:               UPTTotal   R-squared:                       0.833\n",
      "Model:                            OLS   Adj. R-squared:                  0.833\n",
      "Method:                 Least Squares   F-statistic:                 4.463e+04\n",
      "Date:                Sat, 08 Jun 2024   Prob (F-statistic):               0.00\n",
      "Time:                        02:11:56   Log-Likelihood:                -84548.\n",
      "No. Observations:               71768   AIC:                         1.691e+05\n",
      "Df Residuals:                   71759   BIC:                         1.692e+05\n",
      "Df Model:                           8                                         \n",
      "Covariance Type:            nonrobust                                         \n",
      "================================================================================\n",
      "                   coef    std err          t      P>|t|      [0.025      0.975]\n",
      "--------------------------------------------------------------------------------\n",
      "const           -0.7976      0.068    -11.676      0.000      -0.931      -0.664\n",
      "treatUberX       0.0382      0.010      3.890      0.000       0.019       0.057\n",
      "popestimate     -0.9271      0.034    -27.371      0.000      -0.994      -0.861\n",
      "employment       0.9909      0.034     29.363      0.000       0.925       1.057\n",
      "aveFareTotal    -0.1277      0.004    -32.388      0.000      -0.135      -0.120\n",
      "VRHTotal         1.3417      0.009    143.916      0.000       1.323       1.360\n",
      "VOMSTotal       -0.2376      0.008    -30.390      0.000      -0.253      -0.222\n",
      "VRMTotal         0.0688      0.011      6.400      0.000       0.048       0.090\n",
      "gasPrice         0.2136      0.013     16.540      0.000       0.188       0.239\n",
      "==============================================================================\n",
      "Omnibus:                     9050.948   Durbin-Watson:                   0.080\n",
      "Prob(Omnibus):                  0.000   Jarque-Bera (JB):           106297.994\n",
      "Skew:                          -0.089   Prob(JB):                         0.00\n",
      "Kurtosis:                       8.959   Cond. No.                         606.\n",
      "==============================================================================\n",
      "\n",
      "Notes:\n",
      "[1] Standard Errors assume that the covariance matrix of the errors is correctly specified.\n"
     ]
    }
   ],
   "source": [
    "# Fit the OLS model\n",
    "model1 = sm.OLS(Y, X).fit()\n",
    "\n",
    "# Print the results\n",
    "print(model1.summary())"
   ]
  },
  {
   "cell_type": "markdown",
   "id": "dd3c6d85",
   "metadata": {
    "cell_marker": "\"\"\"",
    "lines_to_next_cell": 0
   },
   "source": [
    "This regression gives us an initial estimation of the effects of Uber presence on public transit ridership, showing a 3.82% increase in ridership, suggesting that Uber complements public transit. Higher population estimates are associated with a decrease in ridership, while higher employment levels are linked to a significant increase. Higher average fares negatively affect ridership, while more vehicle hours and miles significantly increase ridership. The results also suggest that more vehicles in service decrease ridership, and higher gas prices lead to a significant increase in ridership."
   ]
  },
  {
   "cell_type": "markdown",
   "id": "c98372a5",
   "metadata": {
    "lines_to_next_cell": 0
   },
   "source": [
    "<div style=\"border: 1px solid black; border-radius: 5px; overflow: hidden;\">\n",
    "    <div style=\"background-color: black; color: white; padding: 5px; text-align: left;\">\n",
    "        2.)\n",
    "    </div>\n",
    "    <div style=\"padding: 10px;\">\n",
    "        OLS: log \\(Y_{it} = \\eta_i + \\delta_t + D_{it} \\beta + W_{it}' \\gamma + \\epsilon_{it}\\).\n",
    "    </div>\n",
    "</div>"
   ]
  },
  {
   "cell_type": "code",
   "execution_count": 41,
   "id": "a5612340",
   "metadata": {},
   "outputs": [
    {
     "name": "stdout",
     "output_type": "stream",
     "text": [
      "                          PanelOLS Estimation Summary                           \n",
      "================================================================================\n",
      "Dep. Variable:               UPTTotal   R-squared:                        0.3295\n",
      "Estimator:                   PanelOLS   R-squared (Between):              0.9395\n",
      "No. Observations:               71768   R-squared (Within):               0.3476\n",
      "Date:                Sat, Jun 08 2024   R-squared (Overall):              0.9503\n",
      "Time:                        02:11:57   Log-likelihood                   -5543.7\n",
      "Cov. Estimator:            Unadjusted                                           \n",
      "                                        F-statistic:                      4357.3\n",
      "Entities:                         676   P-value                           0.0000\n",
      "Avg Obs:                       106.17   Distribution:                 F(8,70941)\n",
      "Min Obs:                       6.0000                                           \n",
      "Max Obs:                       144.00   F-statistic (robust):             4357.3\n",
      "                                        P-value                           0.0000\n",
      "Time periods:                     144   Distribution:                 F(8,70941)\n",
      "Avg Obs:                       498.39                                           \n",
      "Min Obs:                       161.00                                           \n",
      "Max Obs:                       586.00                                           \n",
      "                                                                                \n",
      "                              Parameter Estimates                               \n",
      "================================================================================\n",
      "              Parameter  Std. Err.     T-stat    P-value    Lower CI    Upper CI\n",
      "--------------------------------------------------------------------------------\n",
      "treatUberX      -0.0354     0.0051    -6.9140     0.0000     -0.0454     -0.0254\n",
      "popestimate      0.2789     0.0556     5.0147     0.0000      0.1699      0.3878\n",
      "employment       0.2677     0.0397     6.7474     0.0000      0.1899      0.3455\n",
      "aveFareTotal    -0.0996     0.0030    -33.542     0.0000     -0.1054     -0.0938\n",
      "VRHTotal         0.3052     0.0071     43.084     0.0000      0.2913      0.3190\n",
      "VOMSTotal        0.2314     0.0058     40.090     0.0000      0.2201      0.2427\n",
      "VRMTotal         0.2664     0.0071     37.501     0.0000      0.2525      0.2803\n",
      "gasPrice        -0.0407     0.0394    -1.0337     0.3013     -0.1179      0.0365\n",
      "================================================================================\n",
      "\n",
      "F-test for Poolability: 697.27\n",
      "P-value: 0.0000\n",
      "Distribution: F(818,70941)\n",
      "\n",
      "Included effects: Entity, Time\n"
     ]
    }
   ],
   "source": [
    "# Ensure Y is a Series rather than a DataFrame\n",
    "Y = Y.squeeze()\n",
    "\n",
    "# Create the design matrices\n",
    "X = pd.concat([D, W_scaled_df], axis=1)\n",
    "\n",
    "# Fit the Panel OLS models with individual and time fixed effects\n",
    "model2 = PanelOLS(Y, X, entity_effects=True, time_effects=True, drop_absorbed=True)\n",
    "result2 = model2.fit()\n",
    "\n",
    "# Print the summaries to check the fixed effects inclusion\n",
    "print(result2.summary)"
   ]
  },
  {
   "cell_type": "markdown",
   "id": "9f3130a6",
   "metadata": {
    "lines_to_next_cell": 0
   },
   "source": [
    "To account for bias across agencies and within time, we use fixed effects. Using this model, we estimate a 3.54% decrease in ridership, suggesting that Uber substitutes public transit. Higher population estimates are associated with an increase in ridership, in contrast to the previous model, while higher employment levels are linked to an increase. Higher average fares negatively affect ridership, while more vehicle hours and miles significantly increase ridership. The results also suggest that more vehicles in service increase ridership, and, paradoxically, gas prices have a negative but significant effect, unlike in the first OLS model."
   ]
  },
  {
   "cell_type": "markdown",
   "id": "144c2269",
   "metadata": {
    "lines_to_next_cell": 0
   },
   "source": [
    "<div style=\"border: 1px solid black; border-radius: 5px; overflow: hidden;\">\n",
    "    <div style=\"background-color: black; color: white; padding: 5px; text-align: left;\">\n",
    "        3.)\n",
    "    </div>\n",
    "    <div style=\"padding: 10px;\">\n",
    "        OLS: log \\(Y_{it} = \\eta_i + \\delta_t + D_{it} \\beta_1 + D_{it} Pit_i \\beta_2 + W_{it}' \\gamma + \\epsilon_{it}\\), where \\(Pit_i\\) is a dummy that takes value 1 if the corresponding MSA has population larger than the median population in the dataset and 0 otherwise.\n",
    "    </div>\n",
    "</div>"
   ]
  },
  {
   "cell_type": "code",
   "execution_count": 42,
   "id": "d48975ae",
   "metadata": {},
   "outputs": [
    {
     "name": "stdout",
     "output_type": "stream",
     "text": [
      "                          PanelOLS Estimation Summary                           \n",
      "================================================================================\n",
      "Dep. Variable:               UPTTotal   R-squared:                        0.0103\n",
      "Estimator:                   PanelOLS   R-squared (Between):              0.0023\n",
      "No. Observations:               71768   R-squared (Within):              -0.0002\n",
      "Date:                Sat, Jun 08 2024   R-squared (Overall):              0.0062\n",
      "Time:                        02:11:58   Log-likelihood                -1.951e+04\n",
      "Cov. Estimator:            Unadjusted                                           \n",
      "                                        F-statistic:                      82.066\n",
      "Entities:                         676   P-value                           0.0000\n",
      "Avg Obs:                       106.17   Distribution:                 F(9,70940)\n",
      "Min Obs:                       6.0000                                           \n",
      "Max Obs:                       144.00   F-statistic (robust):             82.066\n",
      "                                        P-value                           0.0000\n",
      "Time periods:                     144   Distribution:                 F(9,70940)\n",
      "Avg Obs:                       498.39                                           \n",
      "Min Obs:                       161.00                                           \n",
      "Max Obs:                       586.00                                           \n",
      "                                                                                \n",
      "                              Parameter Estimates                               \n",
      "================================================================================\n",
      "              Parameter  Std. Err.     T-stat    P-value    Lower CI    Upper CI\n",
      "--------------------------------------------------------------------------------\n",
      "treatUberX       0.0075     0.0177     0.4253     0.6706     -0.0272      0.0423\n",
      "PxD             -0.0505     0.0177    -2.8449     0.0044     -0.0852     -0.0157\n",
      "popestimate   -9.98e-08  1.695e-08    -5.8896     0.0000   -1.33e-07  -6.659e-08\n",
      "employment    1.769e-07  2.226e-08     7.9470     0.0000   1.333e-07   2.206e-07\n",
      "aveFareTotal    -0.0012     0.0005    -2.5437     0.0110     -0.0021     -0.0003\n",
      "VRHTotal      8.564e-07  1.693e-07     5.0596     0.0000   5.247e-07   1.188e-06\n",
      "VOMSTotal        0.0005   2.27e-05     20.119     0.0000      0.0004      0.0005\n",
      "VRMTotal     -2.596e-08   7.54e-09    -3.4424     0.0006  -4.074e-08  -1.118e-08\n",
      "gasPrice        -0.0096     0.0167    -0.5764     0.5643     -0.0423      0.0231\n",
      "================================================================================\n",
      "\n",
      "F-test for Poolability: 2032.5\n",
      "P-value: 0.0000\n",
      "Distribution: F(818,70940)\n",
      "\n",
      "Included effects: Entity, Time\n"
     ]
    }
   ],
   "source": [
    "# Create the design matrices\n",
    "X1 = pd.concat([D, PxD, W], axis=1)\n",
    "\n",
    "# Fit the Panel OLS models with individual and time fixed effects\n",
    "model3 = PanelOLS(Y, X1, entity_effects=True, time_effects=True, drop_absorbed=True)\n",
    "result3 = model3.fit()\n",
    "\n",
    "print(result3.summary)"
   ]
  },
  {
   "cell_type": "markdown",
   "id": "e4968ecf",
   "metadata": {
    "lines_to_next_cell": 0
   },
   "source": [
    "We expand our analysis to examine how the effect of Uber differs based on the population of the MSA. We add $P_{it}$, a dummy variable that takes a value of 1 if the population is larger than the median population in the dataset and 0 otherwise. Using this model, we estimate a 0.75% increase in ridership, which is not statistically significant. Higher average fares negatively affect ridership, while more vehicle hours and miles seem to slightly increase ridership. The results also suggest that more vehicles in service significantly increase ridership, while more vehicle miles slightly decrease it. Again, gas prices do not have a significant effect in this model. Overall, we observe that the majority of the coefficients are very close to 0, with confidence intervals indicating that they could have either a positive or negative overall effect on ridership."
   ]
  },
  {
   "cell_type": "markdown",
   "id": "caecd454",
   "metadata": {
    "lines_to_next_cell": 0
   },
   "source": [
    "<div style=\"border: 1px solid black; border-radius: 5px; overflow: hidden;\">\n",
    "    <div style=\"background-color: black; color: white; padding: 5px; text-align: left;\">\n",
    "        4.)\n",
    "    </div>\n",
    "    <div style=\"padding: 10px;\">\n",
    "        OLS: log \\(Y_{it} = \\eta_i + \\delta_t + D_{it} \\beta_1 + D_{it} Fit_i \\beta_2 + W_{it}' \\gamma + \\epsilon_{it}\\), where \\(Fit_i\\) is a dummy that takes value 1 if the number of rides of the public travel agency is larger than the median number of rides among all public transit agencies in the dataset.\n",
    "    </div>\n",
    "</div>"
   ]
  },
  {
   "cell_type": "code",
   "execution_count": 43,
   "id": "b7c9d433",
   "metadata": {},
   "outputs": [
    {
     "name": "stdout",
     "output_type": "stream",
     "text": [
      "                          PanelOLS Estimation Summary                           \n",
      "================================================================================\n",
      "Dep. Variable:               UPTTotal   R-squared:                        0.0102\n",
      "Estimator:                   PanelOLS   R-squared (Between):             -0.0011\n",
      "No. Observations:               71768   R-squared (Within):              -0.0011\n",
      "Date:                Sat, Jun 08 2024   R-squared (Overall):              0.0029\n",
      "Time:                        02:11:59   Log-likelihood                -1.952e+04\n",
      "Cov. Estimator:            Unadjusted                                           \n",
      "                                        F-statistic:                      81.376\n",
      "Entities:                         676   P-value                           0.0000\n",
      "Avg Obs:                       106.17   Distribution:                 F(9,70940)\n",
      "Min Obs:                       6.0000                                           \n",
      "Max Obs:                       144.00   F-statistic (robust):             81.376\n",
      "                                        P-value                           0.0000\n",
      "Time periods:                     144   Distribution:                 F(9,70940)\n",
      "Avg Obs:                       498.39                                           \n",
      "Min Obs:                       161.00                                           \n",
      "Max Obs:                       586.00                                           \n",
      "                                                                                \n",
      "                              Parameter Estimates                               \n",
      "================================================================================\n",
      "              Parameter  Std. Err.     T-stat    P-value    Lower CI    Upper CI\n",
      "--------------------------------------------------------------------------------\n",
      "treatUberX      -0.0309     0.0089    -3.4692     0.0005     -0.0484     -0.0135\n",
      "FxD             -0.0124     0.0089    -1.3940     0.1633     -0.0299      0.0050\n",
      "popestimate  -1.038e-07  1.687e-08    -6.1525     0.0000  -1.369e-07  -7.074e-08\n",
      "employment    1.737e-07  2.223e-08     7.8136     0.0000   1.301e-07   2.173e-07\n",
      "aveFareTotal    -0.0012     0.0005    -2.5702     0.0102     -0.0021     -0.0003\n",
      "VRHTotal      8.576e-07  1.693e-07     5.0665     0.0000   5.259e-07   1.189e-06\n",
      "VOMSTotal        0.0005  2.273e-05     20.160     0.0000      0.0004      0.0005\n",
      "VRMTotal     -2.602e-08  7.541e-09    -3.4505     0.0006   -4.08e-08  -1.124e-08\n",
      "gasPrice        -0.0101     0.0167    -0.6082     0.5431     -0.0428      0.0226\n",
      "================================================================================\n",
      "\n",
      "F-test for Poolability: 1901.9\n",
      "P-value: 0.0000\n",
      "Distribution: F(818,70940)\n",
      "\n",
      "Included effects: Entity, Time\n"
     ]
    }
   ],
   "source": [
    "# Create the design matrices\n",
    "X2 = pd.concat([D, FxD, W], axis=1)\n",
    "\n",
    "# Fit the Panel OLS models with individual and time fixed effects\n",
    "model4 = PanelOLS(Y, X2, entity_effects=True, time_effects=True, drop_absorbed=True)\n",
    "result4 = model4.fit()\n",
    "\n",
    "print(result4.summary)"
   ]
  },
  {
   "cell_type": "markdown",
   "id": "a17952a8",
   "metadata": {
    "lines_to_next_cell": 0
   },
   "source": [
    "Instead of examining how the effect of Uber differs based on the population, we now account for heterogeneity based on the number of riders using public transit before Uber arrived. We add $F_{it}$, a dummy variable that takes a value of 1 if the number of rides of the public transit agency is larger than the median number of rides among all public transit agencies in the dataset. Using this model, we estimate a 3.09% decrease in ridership, suggesting that Uber substitutes public transit. Apart from that important difference, the rest of the control variables are similar in both magnitude and sign to those observed in regression 3."
   ]
  },
  {
   "cell_type": "markdown",
   "id": "93832112",
   "metadata": {
    "cell_marker": "\"\"\""
   },
   "source": [
    "| Variable     | $OLS_1$ | $OLS_2$ | $OLS_3$    | $OLS_4$    |\n",
    "| ------------ | ------- | ------- | ---------- | ---------- |\n",
    "| Intercept    | -0.7976 | N/A     | N/A        | N/A        |\n",
    "| treatUberX   | 0.0382  | -0.0354 | 0.0075     | -0.0309    |\n",
    "| popestimate  | -0.9271 | 0.2789  | -9.98e-08  | -1.038e-07 |\n",
    "| employment   | 0.9909  | 0.2677  | 1.769e-07  | 1.737e-07  |\n",
    "| aveFareTotal | -0.1277 | -0.0996 | -0.0012    | -0.0012    |\n",
    "| VRHTotal     | 1.3417  | 0.3052  | 8.564e-07  | 8.576e-07  |\n",
    "| VOMSTotal    | -0.2376 | 0.2314  | 0.0005     | 0.0005     |\n",
    "| VRMTotal     | 0.0688  | 0.2664  | -2.596e-08 | -2.602e-08 |\n",
    "| gasPrice     | 0.2136  | -0.0407 | -0.0096    | -0.0101    |\n",
    "\n",
    "Overall, the OLS models indicate that we cannot definitively determine whether the effect of Uber on public transit was complementary or supplementary. The results are not robust across regressions, and therefore, we cannot establish causality. This inconsistency suggests that further analysis with more rigorous methods is needed to understand the true impact of Uber on public transit ridership. Below, we try to address these problems using LASSO and double LASSO regression techniques."
   ]
  },
  {
   "cell_type": "markdown",
   "id": "a5d3685e",
   "metadata": {
    "lines_to_next_cell": 0
   },
   "source": [
    "<div style=\"border: 1px solid black; border-radius: 5px; overflow: hidden;\">\n",
    "    <div style=\"background-color: black; color: white; padding: 5px; text-align: left;\">\n",
    "        5.)\n",
    "    </div>\n",
    "    <div style=\"padding: 10px;\">\n",
    "        LASSO: log \\(Y_{it} = \\eta_i + \\delta_t + D_{it} \\beta_1 + D_{it} Pit \\beta_2 + W_{it}' \\gamma + \\epsilon_{it}\\).\n",
    "    </div>\n",
    "</div>"
   ]
  },
  {
   "cell_type": "code",
   "execution_count": 44,
   "id": "f3684183",
   "metadata": {},
   "outputs": [],
   "source": [
    "# Load data\n",
    "data.reset_index(inplace=True)\n",
    "\n",
    "# Define the dependent variable and independent variables\n",
    "Y = np.log(data[\"UPTTotal\"])\n",
    "D = data[\"treatUberX\"]\n",
    "W = data[\n",
    "    [\n",
    "        \"popestimate\",\n",
    "        \"employment\",\n",
    "        \"aveFareTotal\",\n",
    "        \"VRHTotal\",\n",
    "        \"VOMSTotal\",\n",
    "        \"VRMTotal\",\n",
    "        \"gasPrice\",\n",
    "    ]\n",
    "]\n",
    "PxD = data[\"PxD\"]\n",
    "FxD = data[\"FxD\"]\n",
    "\n",
    "# Scale the independent variables with log transformation\n",
    "W_scaled_df = np.log(W)\n",
    "\n",
    "# Create the design matrices\n",
    "X = pd.concat([D, W_scaled_df], axis=1)\n",
    "\n",
    "# Encode entity and time as dummy variables\n",
    "entity_dummies = pd.get_dummies(data[\"agency_city\"], drop_first=True)\n",
    "time_dummies = pd.get_dummies(data[\"dateSurvey\"], drop_first=True)\n",
    "\n",
    "# Create the design matrices\n",
    "X3 = np.column_stack((D, PxD, W_scaled_df, entity_dummies, time_dummies))\n",
    "Y = np.log(data[\"UPTTotal\"])"
   ]
  },
  {
   "cell_type": "code",
   "execution_count": 45,
   "id": "22b532c8",
   "metadata": {},
   "outputs": [
    {
     "name": "stdout",
     "output_type": "stream",
     "text": [
      "Model 1 Coefficients:\n",
      "        Feature  Coefficient\n",
      "0             D     0.000000\n",
      "1             P     0.000000\n",
      "2   popestimate     0.000000\n",
      "3    employment     0.009711\n",
      "4  aveFareTotal    -0.000000\n",
      "5      VRHTotal     1.170157\n",
      "6     VOMSTotal     0.000000\n",
      "7      VRMTotal     0.000000\n",
      "8      gasPrice     0.000000\n"
     ]
    }
   ],
   "source": [
    "# Fit Lasso regression models\n",
    "alpha1 = BCCH(X3, Y)\n",
    "lasso1 = Lasso(alpha=alpha1)  # You can adjust the alpha parameter as needed\n",
    "lasso1.fit(X3, Y)\n",
    "\n",
    "# Define the feature names\n",
    "feature_names = [\n",
    "    \"D\",\n",
    "    \"P\",\n",
    "    \"popestimate\",\n",
    "    \"employment\",\n",
    "    \"aveFareTotal\",\n",
    "    \"VRHTotal\",\n",
    "    \"VOMSTotal\",\n",
    "    \"VRMTotal\",\n",
    "    \"gasPrice\",\n",
    "]\n",
    "\n",
    "# Create DataFrame for Model 1\n",
    "coef1_df = pd.DataFrame({\"Feature\": feature_names, \"Coefficient\": lasso1.coef_[:9]})\n",
    "\n",
    "print(\"Model 1 Coefficients:\")\n",
    "print(coef1_df)"
   ]
  },
  {
   "cell_type": "markdown",
   "id": "7b4bc6dd",
   "metadata": {
    "lines_to_next_cell": 0
   },
   "source": [
    "We are running a LASSO regression to understand which of the covariates in the dataset are the most relevant predictors of public transit ridership. This model includes \\(P_{it}\\), a dummy variable that conditions on whether the population is larger than the median population in the dataset. The coefficients for Uber presence (D) and population (P) are both zero, suggesting they do not significantly affect ridership in this context. Employment and vehicle hours appear to be the only significant predictors, both contributing positively to ridership."
   ]
  },
  {
   "cell_type": "markdown",
   "id": "a2450676",
   "metadata": {
    "lines_to_next_cell": 0
   },
   "source": [
    "<div style=\"border: 1px solid black; border-radius: 5px; overflow: hidden;\">\n",
    "    <div style=\"background-color: black; color: white; padding: 5px; text-align: left;\">\n",
    "        6.)\n",
    "    </div>\n",
    "    <div style=\"padding: 10px;\">\n",
    "        LASSO: log \\(Y_{it} = \\eta_i + \\delta_t + D_{it} \\beta_1 + D_{it} Fit \\beta_2 + W_{it}' \\gamma + \\epsilon_{it}\\).\n",
    "    </div>\n",
    "</div>"
   ]
  },
  {
   "cell_type": "code",
   "execution_count": 46,
   "id": "ef464b0b",
   "metadata": {},
   "outputs": [
    {
     "name": "stdout",
     "output_type": "stream",
     "text": [
      "Model 2 Coefficients:\n",
      "        Feature  Coefficient\n",
      "0             D     0.000000\n",
      "1             F     0.000000\n",
      "2   popestimate     0.000000\n",
      "3    employment     0.009711\n",
      "4  aveFareTotal    -0.000000\n",
      "5      VRHTotal     1.170157\n",
      "6     VOMSTotal     0.000000\n",
      "7      VRMTotal     0.000000\n",
      "8      gasPrice     0.000000\n"
     ]
    }
   ],
   "source": [
    "# Create the design matrices\n",
    "X4 = np.column_stack((D, FxD, W_scaled_df, entity_dummies, time_dummies))\n",
    "\n",
    "# Fit Lasso regression models\n",
    "alpha2 = BCCH(X4, Y)\n",
    "lasso2 = Lasso(alpha=alpha1)  # You can adjust the alpha parameter as needed\n",
    "lasso2.fit(X4, Y)\n",
    "\n",
    "# Define the feature names\n",
    "feature_names = [\n",
    "    \"D\",\n",
    "    \"F\",\n",
    "    \"popestimate\",\n",
    "    \"employment\",\n",
    "    \"aveFareTotal\",\n",
    "    \"VRHTotal\",\n",
    "    \"VOMSTotal\",\n",
    "    \"VRMTotal\",\n",
    "    \"gasPrice\",\n",
    "]\n",
    "\n",
    "# Create DataFrame for Model 1\n",
    "coef2_df = pd.DataFrame({\"Feature\": feature_names, \"Coefficient\": lasso2.coef_[:9]})\n",
    "\n",
    "print(\"Model 2 Coefficients:\")\n",
    "print(coef2_df)"
   ]
  },
  {
   "cell_type": "markdown",
   "id": "f061c0ed",
   "metadata": {
    "lines_to_next_cell": 0
   },
   "source": [
    "This model includes $F_{it}, a dummy variable that conditions on whether the number of rides of the public transit agency is larger than the median number of rides among all public transit agencies before Uber was introduced. The coefficients for Uber presence (D) and the number of riders before Uber (F) are, again, zero, suggesting they do not significantly affect ridership in this context. As in the previous model, employment and vehicle hours appear to be the only significant predictors, both contributing positively to ridership. \n",
    "\n",
    "We observe that in both regressions, the non-zero coefficients are the same and identical in magnitude. Two factors contribute to this observation. Firstly, in both regressions, the penalty parameter calculated by the BCHH is identical. Secondly, despite having different treatments, we identify the same subset of variables as important. These factors also lead to the result that the treatments are disregarded, allowing us to conclude that they are not significant predictors of public transit ridership."
   ]
  },
  {
   "cell_type": "markdown",
   "id": "bd4c8b61",
   "metadata": {
    "cell_marker": "\"\"\"",
    "lines_to_next_cell": 0
   },
   "source": [
    "| Variable     | $LASSO_5$ | $LASSO_6$ |\n",
    "| ------------ | --------- | --------- |\n",
    "| D            | 0         | 0         |\n",
    "| DP           | 0         | N/A       |\n",
    "| DF           | N/A       | 0         |\n",
    "| popestimate  | 0         | 0         |\n",
    "| employment   | 0.009711  | 0.009711  |\n",
    "| aveFareTotal | 0         | 0         |\n",
    "| VRHTotal     | 1.170157  | 1.170157  |\n",
    "| VOMSTotal    | 0         | 0         |\n",
    "| VRMTotal     | 0         | 0         |\n",
    "| gasPrice     | 0         | 0         |"
   ]
  },
  {
   "cell_type": "markdown",
   "id": "68ea8d47",
   "metadata": {
    "lines_to_next_cell": 0
   },
   "source": [
    "<div style=\"border: 1px solid black; border-radius: 5px; overflow: hidden;\">\n",
    "    <div style=\"background-color: black; color: white; padding: 5px; text-align: left;\">\n",
    "        7.)\n",
    "    </div>\n",
    "    <div style=\"padding: 10px;\">\n",
    "        Double-LASSO: log \\(Y_{it} = \\eta_i + \\delta_t + D_{it} \\beta_1 + D_{it} Pit \\beta_2 + \\tilde{W}_{it}' \\gamma + \\epsilon_{it}\\), where coefficients of interest are \\(\\beta_1\\) and \\(\\beta_2\\).\n",
    "    </div>\n",
    "</div>"
   ]
  },
  {
   "cell_type": "code",
   "execution_count": 47,
   "id": "864f62e1",
   "metadata": {
    "lines_to_next_cell": 0
   },
   "outputs": [
    {
     "name": "stdout",
     "output_type": "stream",
     "text": [
      "Estimated beta_1: 0.1249\n",
      "Estimated standard error: 0.0335\n",
      "Confidence interval: (0.0592, 0.1906)\n"
     ]
    }
   ],
   "source": [
    "Y = np.array(np.log(data[\"UPTTotal\"]), ndmin=1).T\n",
    "D = np.array(data[\"treatUberX\"], ndmin=1).T\n",
    "W = np.array(\n",
    "    np.log(\n",
    "        data[\n",
    "            [\n",
    "                \"popestimate\",\n",
    "                \"employment\",\n",
    "                \"aveFareTotal\",\n",
    "                \"VRHTotal\",\n",
    "                \"VOMSTotal\",\n",
    "                \"VRMTotal\",\n",
    "                \"gasPrice\",\n",
    "            ]\n",
    "        ]\n",
    "    )\n",
    ")\n",
    "P = np.array(data[\"P\"], ndmin=1).T\n",
    "W1 = np.column_stack((D * P, W))\n",
    "W2 = np.column_stack((D, W))\n",
    "DP = D * P\n",
    "\n",
    "# Convert dummy variables to numpy arrays\n",
    "entity_dummies_array = entity_dummies.to_numpy()\n",
    "time_dummies_array = time_dummies.to_numpy()\n",
    "\n",
    "# Concatenate the arrays\n",
    "W1_combined = np.concatenate([W1, entity_dummies_array, time_dummies_array], axis=1)\n",
    "W2_combined = np.concatenate([W2, entity_dummies_array, time_dummies_array], axis=1)\n",
    "\n",
    "\n",
    "# Run double LASSO regression to estimate alpha for D\n",
    "estimated_beta_1, estimated_std_error = double_lasso(Y, D, W1_combined)\n",
    "print(\"Estimated beta_1:\", estimated_beta_1.round(4))\n",
    "print(\"Estimated standard error:\", estimated_std_error.round(4))\n",
    "min = estimated_beta_1 - 1.96 * estimated_std_error\n",
    "max = estimated_beta_1 + 1.96 * estimated_std_error\n",
    "print(\"Confidence interval:\", (min.round(4), max.round(4)))"
   ]
  },
  {
   "cell_type": "code",
   "execution_count": 48,
   "id": "83b55bc9",
   "metadata": {},
   "outputs": [
    {
     "name": "stdout",
     "output_type": "stream",
     "text": [
      "Estimated beta_2: -0.0963\n",
      "Estimated standard error: 0.0375\n",
      "Confidence interval: (-0.1698, -0.0229)\n"
     ]
    }
   ],
   "source": [
    "# Run double LASSO regression to estimate alpha for D*P\n",
    "estimated_beta_2, estimated_std_error = double_lasso(Y, DP, W2_combined)\n",
    "print(\"Estimated beta_2:\", estimated_beta_2.round(4))\n",
    "print(\"Estimated standard error:\", estimated_std_error.round(4))\n",
    "min = estimated_beta_2 - 1.96 * estimated_std_error\n",
    "max = estimated_beta_2 + 1.96 * estimated_std_error\n",
    "print(\"Confidence interval:\", (min.round(4), max.round(4)))"
   ]
  },
  {
   "cell_type": "markdown",
   "id": "dba95bff",
   "metadata": {
    "cell_marker": "\"\"\"",
    "lines_to_next_cell": 0
   },
   "source": [
    "In this model, $beta_1$ is estimated to be 0.1249 with a standard error of 0.0335. The confidence interval for $beta_1$ is (0.0592, 0.1906), indicating that the effect of Uber presence ($D_{it}$) on public transit ridership is positive and statistically significant. This suggests that Uber presence alone is associated with an increase in ridership, indicating that Uber complements public transit.\n",
    "\n",
    "Additionally, $beta_2$ is estimated to be -0.0963 with a standard error of 0.0375. The confidence interval for $beta_2$ is (-0.1698, -0.0229), indicating that the interaction effect of having a population above the median and Uber presence ($P_{it} \\times D_{it}$) on public transit ridership is negative and statistically significant. This suggests that in areas with a population above the median, Uber presence is associated with a 10% decrease in ridership compared to areas with below-median populations, indicating that Uber substitutes public transit in more populous areas."
   ]
  },
  {
   "cell_type": "markdown",
   "id": "34b05a50",
   "metadata": {
    "lines_to_next_cell": 0
   },
   "source": [
    "<div style=\"border: 1px solid black; border-radius: 5px; overflow: hidden;\">\n",
    "    <div style=\"background-color: black; color: white; padding: 5px; text-align: left;\">\n",
    "        8.)\n",
    "    </div>\n",
    "    <div style=\"padding: 10px;\">\n",
    "        Double-LASSO: log \\(Y_{it} = \\eta_i + \\delta_t + D_{it} \\beta_1 + D_{it} Fit \\beta_2 + \\tilde{W}_{it}' \\gamma + \\epsilon_{it}\\), where coefficients of interest are \\(\\beta_1\\) and \\(\\beta_2\\).\n",
    "    </div>\n",
    "</div>"
   ]
  },
  {
   "cell_type": "code",
   "execution_count": 49,
   "id": "95dd1147",
   "metadata": {},
   "outputs": [
    {
     "name": "stdout",
     "output_type": "stream",
     "text": [
      "Estimated beta_1: -0.2374\n",
      "Estimated standard error: 0.0188\n",
      "Confidence interval: (-0.2743, -0.2006)\n"
     ]
    }
   ],
   "source": [
    "F = np.array(data[\"F\"], ndmin=1).T\n",
    "W3 = np.column_stack((D * F, W))\n",
    "W3_combined = np.concatenate([W3, entity_dummies_array, time_dummies_array], axis=1)\n",
    "DF = D * F\n",
    "\n",
    "# Run double LASSO regression to estimate alpha for D, using F as an instrument\n",
    "estimated_beta_1, estimated_std_error = double_lasso(Y, D, W3_combined)\n",
    "print(\"Estimated beta_1:\", estimated_beta_1.round(4))\n",
    "print(\"Estimated standard error:\", estimated_std_error.round(4))\n",
    "min = estimated_beta_1 - 1.96 * estimated_std_error\n",
    "max = estimated_beta_1 + 1.96 * estimated_std_error\n",
    "print(\"Confidence interval:\", (min.round(4), max.round(4)))"
   ]
  },
  {
   "cell_type": "code",
   "execution_count": 50,
   "id": "76d32b50",
   "metadata": {},
   "outputs": [
    {
     "name": "stdout",
     "output_type": "stream",
     "text": [
      "Estimated beta_2: 0.5964\n",
      "Estimated standard error: 0.0224\n",
      "Confidence interval: (0.5525, 0.6403)\n"
     ]
    }
   ],
   "source": [
    "# Run double LASSO regression to estimate alpha for D*F\n",
    "estimated_beta_2, estimated_std_error = double_lasso(Y, DF, W2_combined)\n",
    "print(\"Estimated beta_2:\", estimated_beta_2.round(4))\n",
    "print(\"Estimated standard error:\", estimated_std_error.round(4))\n",
    "min = estimated_beta_2 - 1.96 * estimated_std_error\n",
    "max = estimated_beta_2 + 1.96 * estimated_std_error\n",
    "print(\"Confidence interval:\", (min.round(4), max.round(4)))"
   ]
  },
  {
   "cell_type": "markdown",
   "id": "371f1a24",
   "metadata": {
    "lines_to_next_cell": 0
   },
   "source": [
    "In this model, $beta_1$ is estimated to be -0.2374 with a standard error of 0.0188. The confidence interval for $beta_1$ is (-0.2743, -0.2006), indicating that the effect of Uber presence ($D_{it}$) on public transit ridership is negative and statistically significant. This suggests that Uber presence alone is associated with a decrease in ridership, indicating that Uber substitutes public transit.\n",
    "\n",
    "Additionally, $beta_2$ is estimated to be 0.5964 with a standard error of 0.0224. The confidence interval for $beta_2$ is (0.5525, 0.6403), indicating that the interaction effect of having a number of riders above the median and Uber presence ($F_{it} \\times D_{it}$) on public transit ridership is positive and statistically significant. This suggests that in areas with a number of riders above the median, Uber presence is associated with a 60% increase in ridership compared to areas with below-median ridership, indicating that Uber complements public transit in areas with higher initial ridership."
   ]
  },
  {
   "cell_type": "markdown",
   "id": "e68d4416",
   "metadata": {
    "cell_marker": "\"\"\"",
    "lines_to_next_cell": 0
   },
   "source": [
    "| Variable | $Double\\,Lasso_7$ | $Double\\,Lasso_8$ |\n",
    "| -------- | ----------------- | ----------------- |\n",
    "| D        | 0.1249            | -0.2374           |\n",
    "| D lower  | 0.0592            | -0.2743           |\n",
    "| D upper  | 0.1906            | -0.2006           |\n",
    "| PD       | -0.0963           | N/A               |\n",
    "| PD lower | -0.1698           | N/A               |\n",
    "| PD upper | -0.0229           | N/A               |\n",
    "| DF       | N/A               | 0.5964            |\n",
    "| DF lower | N/A               | 0.5525            |\n",
    "| DF upper | N/A               | 0.6403            |"
   ]
  },
  {
   "cell_type": "markdown",
   "id": "2daa66aa",
   "metadata": {
    "lines_to_next_cell": 0
   },
   "source": [
    "<div style=\"border: 1px solid black; border-radius: 5px; overflow: hidden;\">\n",
    "    <div style=\"background-color: black; color: white; padding: 5px; text-align: left;\">\n",
    "        9.)\n",
    "    </div>\n",
    "    <div style=\"padding: 10px;\">\n",
    "        LASSO: log \\(Y_{it} = \\eta_i + \\delta_t + D_{it} \\beta_1 + D_{it} Pit \\beta_2 + \\tilde{W}_{it}' \\gamma + \\epsilon_{it}\\), where \\(\\tilde{W}_{it}\\) includes all interactions of order 5 of variables in the vector \\(W_{it}\\).\n",
    "    </div>\n",
    "</div>"
   ]
  },
  {
   "cell_type": "code",
   "execution_count": 51,
   "id": "39ee1af7",
   "metadata": {},
   "outputs": [],
   "source": [
    "# Create polynomial features of 5th order\n",
    "poly = PolynomialFeatures(degree=5)\n",
    "W_poly = poly.fit_transform(W_scaled_df)\n",
    "W_p = pd.DataFrame(W_poly)\n",
    "W_p.drop(columns=0, inplace=True)"
   ]
  },
  {
   "cell_type": "code",
   "execution_count": 52,
   "id": "450a7549",
   "metadata": {},
   "outputs": [
    {
     "name": "stdout",
     "output_type": "stream",
     "text": [
      "Model 9 Coefficients:\n",
      "        Feature  Coefficient\n",
      "0             D         -0.0\n",
      "1            PD         -0.0\n",
      "2   popestimate         -0.0\n",
      "3    employment         -0.0\n",
      "4  aveFareTotal         -0.0\n",
      "5      VRHTotal          0.0\n",
      "6     VOMSTotal          0.0\n",
      "7      VRMTotal          0.0\n",
      "8      gasPrice          0.0\n"
     ]
    }
   ],
   "source": [
    "# Create the design matrices\n",
    "X9 = np.column_stack((D, PxD, W_p, entity_dummies, time_dummies))\n",
    "\n",
    "# Fit Lasso regression models\n",
    "alpha3 = BCCH(X9, Y)\n",
    "lasso9 = Lasso(alpha=alpha3)  # You can adjust the alpha parameter as needed\n",
    "lasso9.fit(X9, Y)\n",
    "\n",
    "# Define the feature names\n",
    "feature_names = [\n",
    "    \"D\",\n",
    "    \"PD\",\n",
    "    \"popestimate\",\n",
    "    \"employment\",\n",
    "    \"aveFareTotal\",\n",
    "    \"VRHTotal\",\n",
    "    \"VOMSTotal\",\n",
    "    \"VRMTotal\",\n",
    "    \"gasPrice\",\n",
    "]\n",
    "\n",
    "# Create DataFrame for Model 9\n",
    "coef9_df = pd.DataFrame({\"Feature\": feature_names, \"Coefficient\": lasso9.coef_[:9]})\n",
    "\n",
    "print(\"Model 9 Coefficients:\")\n",
    "print(coef9_df)"
   ]
  },
  {
   "cell_type": "markdown",
   "id": "7c6329db",
   "metadata": {
    "lines_to_next_cell": 0
   },
   "source": []
  },
  {
   "cell_type": "markdown",
   "id": "87298ce7",
   "metadata": {
    "lines_to_next_cell": 0
   },
   "source": [
    "<div style=\"border: 1px solid black; border-radius: 5px; overflow: hidden;\">\n",
    "    <div style=\"background-color: black; color: white; padding: 5px; text-align: left;\">\n",
    "        10.)\n",
    "    </div>\n",
    "    <div style=\"padding: 10px;\">\n",
    "        LASSO: log \\(Y_{it} = \\eta_i + \\delta_t + D_{it} \\beta_1 + D_{it} Fit \\beta_2 + \\tilde{W}_{it}' \\gamma + \\epsilon_{it}\\), where \\(\\tilde{W}_{it}\\) includes all interactions of order 5 of variables in the vector \\(W_{it}\\).\n",
    "    </div>\n",
    "</div>"
   ]
  },
  {
   "cell_type": "code",
   "execution_count": 53,
   "id": "1b039d5b",
   "metadata": {},
   "outputs": [
    {
     "name": "stdout",
     "output_type": "stream",
     "text": [
      "Model 10 Coefficients:\n",
      "        Feature  Coefficient\n",
      "0             D         -0.0\n",
      "1            FD          0.0\n",
      "2   popestimate         -0.0\n",
      "3    employment         -0.0\n",
      "4  aveFareTotal         -0.0\n",
      "5      VRHTotal          0.0\n",
      "6     VOMSTotal          0.0\n",
      "7      VRMTotal          0.0\n",
      "8      gasPrice          0.0\n"
     ]
    }
   ],
   "source": [
    "# Create the design matrices\n",
    "X10 = np.column_stack((D, FxD, W_p, entity_dummies, time_dummies))\n",
    "\n",
    "# Fit Lasso regression models\n",
    "alpha4 = BCCH(X10, Y)\n",
    "lasso10 = Lasso(alpha=alpha4)  # You can adjust the alpha parameter as needed\n",
    "lasso10.fit(X10, Y)\n",
    "\n",
    "# Define the feature names\n",
    "feature_names = [\n",
    "    \"D\",\n",
    "    \"FD\",\n",
    "    \"popestimate\",\n",
    "    \"employment\",\n",
    "    \"aveFareTotal\",\n",
    "    \"VRHTotal\",\n",
    "    \"VOMSTotal\",\n",
    "    \"VRMTotal\",\n",
    "    \"gasPrice\",\n",
    "]\n",
    "\n",
    "# Create DataFrame for Model 10\n",
    "coef10_df = pd.DataFrame({\"Feature\": feature_names, \"Coefficient\": lasso10.coef_[:9]})\n",
    "\n",
    "print(\"Model 10 Coefficients:\")\n",
    "print(coef10_df)"
   ]
  },
  {
   "cell_type": "markdown",
   "id": "7b91fd5c",
   "metadata": {
    "lines_to_next_cell": 0
   },
   "source": [
    "In both regressions, LASSO penalized all variables, shrinking their coefficients to zero. This outcome suggests that none of the variables, nor their interactions up to the fifth order, are strong predictors of public transit ridership when considering Uber presence and the interaction terms ($P_{it} \\times D_{it}$ and $F_{it} \\times D_{it}$). The complexity added by considering high-order interactions among the control variables does not enhance the model's ability to predict public transit ridership.\n",
    "\n",
    "Given that neither Uber presence nor the high-order interactions of the control variables contribute significantly to the model, we can infer that the direct impact of Uber on public transit ridership, as captured by these models, is minimal. This conclusion aligns with the results from previously estimated, simpler models."
   ]
  },
  {
   "cell_type": "markdown",
   "id": "0737bc59",
   "metadata": {
    "cell_marker": "\"\"\"",
    "lines_to_next_cell": 0
   },
   "source": [
    "| Variable     | $LASSO_5$ | $LASSO_6$ | $LASSO_9$ | $LASSO_{10}$ |\n",
    "| ------------ | --------- | --------- | --------- | ------------ |\n",
    "| D            | 0         | 0         | 0         | 0            |\n",
    "| DP           | 0         | N/A       | 0         | 0            |\n",
    "| DF           | N/A       | 0         | 0         | 0            |\n",
    "| popestimate  | 0         | 0         | 0         | 0            |\n",
    "| employment   | 0.009711  | 0.009711  | 0         | 0            |\n",
    "| aveFareTotal | 0         | 0         | 0         | 0            |\n",
    "| VRHTotal     | 1.170157  | 1.170157  | 0         | 0            |\n",
    "| VOMSTotal    | 0         | 0         | 0         | 0            |\n",
    "| VRMTotal     | 0         | 0         | 0         | 0            |\n",
    "| gasPrice     | 0         | 0         | 0         | 0            |"
   ]
  },
  {
   "cell_type": "markdown",
   "id": "c624c9fb",
   "metadata": {
    "lines_to_next_cell": 0
   },
   "source": [
    "<div style=\"border: 1px solid black; border-radius: 5px; overflow: hidden;\">\n",
    "    <div style=\"background-color: black; color: white; padding: 5px; text-align: left;\">\n",
    "        11.)\n",
    "    </div>\n",
    "    <div style=\"padding: 10px;\">\n",
    "        Double-LASSO: log \\(Y_{it} = \\eta_i + \\delta_t + D_{it} \\beta_1 + D_{it} Pit \\beta_2 + \\tilde{W}_{it}' \\gamma + \\epsilon_{it}\\), where coefficients of interest are \\(\\beta_1\\) and \\(\\beta_2\\) and \\(\\tilde{W}_{it}\\) includes all interactions of order 5 of variables in the vector \\(W_{it}\\).\n",
    "    </div>\n",
    "</div>"
   ]
  },
  {
   "cell_type": "code",
   "execution_count": 54,
   "id": "95d56d47",
   "metadata": {},
   "outputs": [
    {
     "name": "stdout",
     "output_type": "stream",
     "text": [
      "Estimated beta_1: 0.0254\n",
      "Estimated standard error: 0.0137\n",
      "Confidence interval: (-0.0015, 0.0523)\n"
     ]
    }
   ],
   "source": [
    "Y = np.array(np.log(data[\"UPTTotal\"]), ndmin=1).T\n",
    "D = np.array(data[\"treatUberX\"], ndmin=1).T\n",
    "W = np.array(\n",
    "    np.log(\n",
    "        data[\n",
    "            [\n",
    "                \"popestimate\",\n",
    "                \"employment\",\n",
    "                \"aveFareTotal\",\n",
    "                \"VRHTotal\",\n",
    "                \"VOMSTotal\",\n",
    "                \"VRMTotal\",\n",
    "                \"gasPrice\",\n",
    "            ]\n",
    "        ]\n",
    "    )\n",
    ")\n",
    "P = np.array(data[\"P\"], ndmin=1).T\n",
    "W1 = np.column_stack((D * P, W_p))\n",
    "W2 = np.column_stack((D, W_p))\n",
    "DP = D * P\n",
    "\n",
    "# Convert dummy variables to numpy arrays\n",
    "entity_dummies_array = entity_dummies.to_numpy()\n",
    "time_dummies_array = time_dummies.to_numpy()\n",
    "\n",
    "# Concatenate the arrays\n",
    "W1_combined = np.concatenate([W1, entity_dummies_array, time_dummies_array], axis=1)\n",
    "W2_combined = np.concatenate([W2, entity_dummies_array, time_dummies_array], axis=1)\n",
    "\n",
    "\n",
    "# Run double LASSO regression to estimate alpha for D\n",
    "estimated_beta_1, estimated_std_error = double_lasso(Y, D, W1_combined)\n",
    "print(\"Estimated beta_1:\", estimated_beta_1.round(4))\n",
    "print(\"Estimated standard error:\", estimated_std_error.round(4))\n",
    "min = estimated_beta_1 - 1.96 * estimated_std_error\n",
    "max = estimated_beta_1 + 1.96 * estimated_std_error\n",
    "print(\"Confidence interval:\", (min.round(4), max.round(4)))"
   ]
  },
  {
   "cell_type": "code",
   "execution_count": 55,
   "id": "9cec95ac",
   "metadata": {},
   "outputs": [
    {
     "name": "stdout",
     "output_type": "stream",
     "text": [
      "Estimated beta_2: -0.0092\n",
      "Estimated standard error: 0.0142\n",
      "Confidence interval: (-0.0371, 0.0187)\n"
     ]
    }
   ],
   "source": [
    "# Run double LASSO regression to estimate alpha for D*P\n",
    "estimated_beta_2, estimated_std_error = double_lasso(Y, DP, W2_combined)\n",
    "print(\"Estimated beta_2:\", estimated_beta_2.round(4))\n",
    "print(\"Estimated standard error:\", estimated_std_error.round(4))\n",
    "min = estimated_beta_2 - 1.96 * estimated_std_error\n",
    "max = estimated_beta_2 + 1.96 * estimated_std_error\n",
    "print(\"Confidence interval:\", (min.round(4), max.round(4)))"
   ]
  },
  {
   "cell_type": "markdown",
   "id": "c8516488",
   "metadata": {
    "lines_to_next_cell": 0
   },
   "source": [
    "In this model, $\\beta_1$ is estimated to be 0.0254 with a standard error of 0.0137. The confidence interval for $\\beta_1$ is (-0.0015, 0.0523), indicating that the effect of Uber presence ($D_{it}$) on public transit ridership is not statistically significant. This suggests that Uber presence alone does not have a significant impact on ridership.\n",
    "\n",
    "Additionally, $\\beta_2$ is estimated to be -0.0092 with a standard error of 0.0142. The confidence interval for $\\beta_2$ is (-0.0371, 0.0187), indicating that the interaction effect of having a population above the median and Uber presence ($P_{it} \\times D_{it}$) on public transit ridership is also not statistically significant. This suggests that in areas with a population above the median, Uber presence does not significantly affect ridership."
   ]
  },
  {
   "cell_type": "markdown",
   "id": "b4ee64a2",
   "metadata": {
    "lines_to_next_cell": 0
   },
   "source": [
    "<div style=\"border: 1px solid black; border-radius: 5px; overflow: hidden;\">\n",
    "    <div style=\"background-color: black; color: white; padding: 5px; text-align: left;\">\n",
    "        12.)\n",
    "    </div>\n",
    "    <div style=\"padding: 10px;\">\n",
    "        Double-LASSO: log \\(Y_{it} = \\eta_i + \\delta_t + D_{it} \\beta_1 + D_{it} Fit \\beta_2 + \\tilde{W}_{it}' \\gamma + \\epsilon_{it}\\), where coefficients of interest are \\(\\beta_1\\) and \\(\\beta_2\\) and \\(\\tilde{W}_{it}\\) includes all interactions of order 5 of variables in the vector \\(W_{it}\\).\n",
    "    </div>\n",
    "</div>"
   ]
  },
  {
   "cell_type": "code",
   "execution_count": 56,
   "id": "c614b499",
   "metadata": {},
   "outputs": [
    {
     "name": "stdout",
     "output_type": "stream",
     "text": [
      "Estimated beta_1: 0.0254\n",
      "Estimated standard error: 0.0137\n",
      "Confidence interval: (-0.0015, 0.0523)\n"
     ]
    }
   ],
   "source": [
    "# Create Fit\n",
    "F = np.array(data[\"F\"], ndmin=1).T\n",
    "W3 = np.column_stack((D * F, W_p))\n",
    "DF = D * F\n",
    "\n",
    "# Convert dummy variables to numpy arrays\n",
    "entity_dummies_array = entity_dummies.to_numpy()\n",
    "time_dummies_array = time_dummies.to_numpy()\n",
    "\n",
    "# Concatenate the arrays\n",
    "W3_combined = np.concatenate([W3, entity_dummies_array, time_dummies_array], axis=1)\n",
    "\n",
    "# Run double LASSO regression to estimate alpha for D\n",
    "estimated_beta_1, estimated_std_error = double_lasso(Y, D, W3_combined)\n",
    "print(\"Estimated beta_1:\", estimated_beta_1.round(4))\n",
    "print(\"Estimated standard error:\", estimated_std_error.round(4))\n",
    "min = estimated_beta_1 - 1.96 * estimated_std_error\n",
    "max = estimated_beta_1 + 1.96 * estimated_std_error\n",
    "print(\"Confidence interval:\", (min.round(4), max.round(4)))"
   ]
  },
  {
   "cell_type": "code",
   "execution_count": 57,
   "id": "fd853f1c",
   "metadata": {},
   "outputs": [
    {
     "name": "stdout",
     "output_type": "stream",
     "text": [
      "Estimated beta_2: 0.5033\n",
      "Estimated standard error: 0.0157\n",
      "Confidence interval: (0.4725, 0.534)\n"
     ]
    }
   ],
   "source": [
    "# Run double LASSO regression to estimate alpha for D*F\n",
    "estimated_beta_2, estimated_std_error = double_lasso(Y, DF, W2_combined)\n",
    "print(\"Estimated beta_2:\", estimated_beta_2.round(4))\n",
    "print(\"Estimated standard error:\", estimated_std_error.round(4))\n",
    "min = estimated_beta_2 - 1.96 * estimated_std_error\n",
    "max = estimated_beta_2 + 1.96 * estimated_std_error\n",
    "print(\"Confidence interval:\", (min.round(4), max.round(4)))"
   ]
  },
  {
   "cell_type": "markdown",
   "id": "750f80e2",
   "metadata": {
    "lines_to_next_cell": 0
   },
   "source": [
    "In this model, $\\beta_1$ is also estimated to be 0.0254 with a standard error of 0.0137. The confidence interval for $\\beta_1$ is (-0.0015, 0.0523), indicating that the effect of Uber presence ($D_{it}$) on public transit ridership is not statistically significant. This suggests that Uber presence alone does not have a significant impact on ridership.\n",
    "\n",
    "Additionally, $\\beta_2$ is estimated to be 0.5033 with a standard error of 0.0157. The confidence interval for $\\beta_2$ is (0.4725, 0.5340), indicating that the interaction effect of having a number of riders above the median and Uber presence ($F_{it} \\times D_{it}$) on public transit ridership is positive and statistically significant. This suggests that in areas with a higher number of initial riders, Uber presence is associated with a 50% increase in ridership compared to areas with below-median ridership, indicating that Uber complements public transit in areas with higher initial ridership. This result is similar to the one observed in Double-LASSO Regression 2, where we estimated this effect to be 60%.\n",
    "\n",
    "Finally, we observe that the coefficients for $\\beta_1$ from regressions 11 and 12 are identical. This phenomenon can be attributed to the inclusion of the polynomials which results to an exponential increase in the number of features included in the model. This approach adresses the issues of non linearities in the model and provides a robust estimation for the effect of Uber, which remains unaffected by change in the interaction effect fitted."
   ]
  },
  {
   "cell_type": "markdown",
   "id": "812d659e",
   "metadata": {
    "cell_marker": "\"\"\""
   },
   "source": [
    "| Variable | $Double\\,Lasso_7$ | $Double\\,Lasso_8$ | $Double\\,Lasso_{11}$ | $Double\\,Lasso_{12}$ |\n",
    "| -------- | ----------------- | ----------------- | -------------------- | -------------------- |\n",
    "| D        | 0.1249            | -0.2374           | 0.0254               | 0.0254               |\n",
    "| D lower  | 0.0592            | -0.2743           | -0.0015              | -0.0015              |\n",
    "| D upper  | 0.1906            | -0.2006           | 0.0523               | 0.0523               |\n",
    "| PD       | -0.0963           | N/A               | -0.0092              | N/A                  |\n",
    "| PD lower | -0.1698           | N/A               | -0.0371              | N/A                  |\n",
    "| PD upper | -0.0229           | N/A               | 0.0187               | N/A                  |\n",
    "| DF       | N/A               | 0.5964            | N/A                  | 0.5033               |\n",
    "| DF lower | N/A               | 0.5525            | N/A                  | 0.4725               |\n",
    "| DF upper | N/A               | 0.6403            | N/A                  | 0.534                |"
   ]
  }
 ],
 "metadata": {
  "jupytext": {
   "cell_metadata_filter": "-all",
   "formats": "py:percent,ipynb",
   "main_language": "python"
  },
  "language_info": {
   "codemirror_mode": {
    "name": "ipython",
    "version": 3
   },
   "file_extension": ".py",
   "mimetype": "text/x-python",
   "name": "python",
   "nbconvert_exporter": "python",
   "pygments_lexer": "ipython3",
   "version": "3.11.9"
  }
 },
 "nbformat": 4,
 "nbformat_minor": 5
}
